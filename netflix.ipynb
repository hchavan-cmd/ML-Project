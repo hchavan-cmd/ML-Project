{
 "cells": [
  {
   "cell_type": "markdown",
   "metadata": {},
   "source": [
    "## Preparing the Dataset\n",
    "\n",
    "We add emotion analysis of the description to the dataset and create tiers of movie rankings. \n"
   ]
  },
  {
   "cell_type": "code",
   "execution_count": null,
   "metadata": {},
   "outputs": [],
   "source": [
    "import os\n",
    "import pandas as pd\n",
    "import numpy as np \n",
    "import torch\n",
    "from transformers import pipeline, AutoTokenizer, AutoModelForSequenceClassification, Trainer\n",
    "os.chdir(\"C:\\\\Users\\\\Hithesh\\\\Desktop\\\\Datawise\\\\ML\\\\netflix\")\n",
    "df = pd.read_csv(\"n_movies.csv\")\n",
    "df.head()\n",
    "\n",
    "df.columns\n",
    "np.min(df[\"rating\"]) ## 1.7\n",
    "np.max(df[\"rating\"]) ## 9.9\n",
    "\n",
    "df[\"tiers\"] = np.ceil(df[\"rating\"])\n",
    "\n",
    "# Create class for data preparation\n",
    "class SimpleDataset:\n",
    "    def __init__(self, tokenized_texts):\n",
    "        self.tokenized_texts = tokenized_texts\n",
    "    \n",
    "    def __len__(self):\n",
    "        return len(self.tokenized_texts[\"input_ids\"])\n",
    "    \n",
    "    def __getitem__(self, idx):\n",
    "        return {k: v[idx] for k, v in self.tokenized_texts.items()}\n",
    "    \n",
    "model_name = \"j-hartmann/emotion-english-distilroberta-base\"\n",
    "tokenizer = AutoTokenizer.from_pretrained(model_name)\n",
    "model = AutoModelForSequenceClassification.from_pretrained(model_name)\n",
    "trainer = Trainer(model=model)\n",
    "\n",
    "#classifier = pipeline(\"text-classification\", model=\"j-hartmann/emotion-english-distilroberta-base\", return_all_scores=True) ##hugging-hub\n",
    "\n",
    "pred_texts = df[\"description\"].astype('str').tolist()\n",
    "tokenized_texts = tokenizer(pred_texts,truncation=True,padding=True)\n",
    "pred_dataset = SimpleDataset(tokenized_texts)\n",
    "predictions = trainer.predict(pred_dataset)\n",
    "\n",
    "preds = predictions.predictions.argmax(-1)\n",
    "labels = pd.Series(preds).map(model.config.id2label)\n",
    "scores = (np.exp(predictions[0])/np.exp(predictions[0]).sum(-1,keepdims=True)).max(1)\n",
    "\n",
    "# scores raw\n",
    "temp = (np.exp(predictions[0])/np.exp(predictions[0]).sum(-1,keepdims=True))\n",
    "\n",
    "# work in progress\n",
    "# container\n",
    "anger = []\n",
    "disgust = []\n",
    "fear = []\n",
    "joy = []\n",
    "neutral = []\n",
    "sadness = []\n",
    "surprise = []\n",
    "\n",
    "# extract scores (as many entries as exist in pred_texts)\n",
    "for i in range(len(pred_texts)):\n",
    "  anger.append(temp[i][0])\n",
    "  disgust.append(temp[i][1])\n",
    "  fear.append(temp[i][2])\n",
    "  joy.append(temp[i][3])\n",
    "  neutral.append(temp[i][4])\n",
    "  sadness.append(temp[i][5])\n",
    "  surprise.append(temp[i][6])\n",
    "  \n",
    "\n",
    "df = df.assign(**{'anger':anger, 'disgust':disgust, 'fear':fear, 'joy':joy, 'neutral':neutral, \n",
    "             'sadness':sadness, 'surprise':surprise})\n",
    "\n",
    "new_file = \"n_movies_emomods.csv\"\n",
    "df.to_csv(new_file)\n"
   ]
  },
  {
   "cell_type": "markdown",
   "metadata": {},
   "source": [
    "## Regression\n",
    "We first load in our newly created dataset and the scikit.learn library to run our regression. \n",
    "We choose a straightforward linear regression first to look at the result and classification. "
   ]
  },
  {
   "cell_type": "code",
   "execution_count": 1,
   "metadata": {},
   "outputs": [],
   "source": [
    "import numpy as np\n",
    "from sklearn.linear_model import LinearRegression\n",
    "\n",
    "nmovies = pd.read_csv(n_movies_emomods.csv)\n",
    "\n",
    "lr = LinearRegression()\n",
    "lr.fix()"
   ]
  },
  {
   "cell_type": "code",
   "execution_count": null,
   "metadata": {},
   "outputs": [],
   "source": []
  }
 ],
 "metadata": {
  "kernelspec": {
   "display_name": "Python 3.10.5 64-bit",
   "language": "python",
   "name": "python3"
  },
  "language_info": {
   "codemirror_mode": {
    "name": "ipython",
    "version": 3
   },
   "file_extension": ".py",
   "mimetype": "text/x-python",
   "name": "python",
   "nbconvert_exporter": "python",
   "pygments_lexer": "ipython3",
   "version": "3.10.5"
  },
  "orig_nbformat": 4,
  "vscode": {
   "interpreter": {
    "hash": "71cc9817a0deee808bd2d3eaf889654b452467691c078d0db550df566ef33a76"
   }
  }
 },
 "nbformat": 4,
 "nbformat_minor": 2
}
